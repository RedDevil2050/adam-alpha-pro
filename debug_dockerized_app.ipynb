{
 "cells": [
  {
   "cell_type": "markdown",
   "id": "5e279c78",
   "metadata": {},
   "source": [
    "# Debugging and Resolving Issues in a Dockerized Application Setup\n",
    "This notebook provides a step-by-step guide to debug and resolve issues in a Dockerized application setup."
   ]
  },
  {
   "cell_type": "markdown",
   "id": "c618fbbe",
   "metadata": {},
   "source": [
    "## Inspect Docker Containers\n",
    "Use Docker CLI commands to list running containers and inspect their logs for errors."
   ]
  },
  {
   "cell_type": "code",
   "execution_count": 16,
   "id": "5f7585fe",
   "metadata": {},
   "outputs": [
    {
     "name": "stdout",
     "output_type": "stream",
     "text": [
      "CONTAINER ID   IMAGE          COMMAND                  CREATED          STATUS          PORTS                    NAMES\n",
      "1525f617c6d1   redis:alpine   \"docker-entrypoint.s…\"   53 minutes ago   Up 53 minutes   0.0.0.0:6379->6379/tcp   zion-redis-1\n",
      "d40e67a4b9ea   postgres:13    \"docker-entrypoint.s…\"   53 minutes ago   Up 53 minutes   0.0.0.0:5432->5432/tcp   zion-postgres-1\n",
      "1:C 29 Apr 2025 19:04:13.508 * oO0OoO0OoO0Oo Redis is starting oO0OoO0OoO0Oo\n",
      "1:C 29 Apr 2025 19:04:13.508 * Redis version=7.4.3, bits=64, commit=00000000, modified=0, pid=1, just started\n",
      "1:C 29 Apr 2025 19:04:13.508 # Warning: no config file specified, using the default config. In order to specify a config file use redis-server /path/to/redis.conf\n",
      "1:M 29 Apr 2025 19:04:13.509 * monotonic clock: POSIX clock_gettime\n",
      "1:M 29 Apr 2025 19:04:13.510 * Running mode=standalone, port=6379.\n",
      "1:M 29 Apr 2025 19:04:13.510 * Server initialized\n",
      "1:M 29 Apr 2025 19:04:13.511 * Ready to accept connections tcp\n",
      "1:C 29 Apr 2025 19:04:13.508 * oO0OoO0OoO0Oo Redis is starting oO0OoO0OoO0Oo\n",
      "1:C 29 Apr 2025 19:04:13.508 * Redis version=7.4.3, bits=64, commit=00000000, modified=0, pid=1, just started\n",
      "1:C 29 Apr 2025 19:04:13.508 # Warning: no config file specified, using the default config. In order to specify a config file use redis-server /path/to/redis.conf\n",
      "1:M 29 Apr 2025 19:04:13.509 * monotonic clock: POSIX clock_gettime\n",
      "1:M 29 Apr 2025 19:04:13.510 * Running mode=standalone, port=6379.\n",
      "1:M 29 Apr 2025 19:04:13.510 * Server initialized\n",
      "1:M 29 Apr 2025 19:04:13.511 * Ready to accept connections tcp\n"
     ]
    }
   ],
   "source": [
    "# List running Docker containers\n",
    "!docker ps\n",
    "\n",
    "# Inspect logs for a specific container (replace <container_id> with the actual ID)\n",
    "!docker logs zion-redis-1"
   ]
  },
  {
   "cell_type": "markdown",
   "id": "f9b3d99c",
   "metadata": {},
   "source": [
    "## Check Grafana Configuration\n",
    "Verify the existence and permissions of the Grafana configuration file `/etc/grafana/grafana.ini`."
   ]
  },
  {
   "cell_type": "code",
   "execution_count": 17,
   "id": "c3af3df7",
   "metadata": {},
   "outputs": [
    {
     "name": "stdout",
     "output_type": "stream",
     "text": [
      "Configuration file not found: /etc/grafana/grafana.ini\n",
      "Cannot check permissions as the file does not exist: /etc/grafana/grafana.ini\n"
     ]
    }
   ],
   "source": [
    "import os\n",
    "\n",
    "# Check if the Grafana configuration file exists\n",
    "grafana_config_path = \"/etc/grafana/grafana.ini\"\n",
    "if os.path.exists(grafana_config_path):\n",
    "    print(f\"Configuration file found: {grafana_config_path}\")\n",
    "else:\n",
    "    print(f\"Configuration file not found: {grafana_config_path}\")\n",
    "\n",
    "# Check file permissions only if the file exists\n",
    "if os.path.exists(grafana_config_path):\n",
    "    permissions = oct(os.stat(grafana_config_path).st_mode)[-3:]\n",
    "    print(f\"File permissions for {grafana_config_path}: {permissions}\")\n",
    "else:\n",
    "    print(f\"Cannot check permissions as the file does not exist: {grafana_config_path}\")"
   ]
  },
  {
   "cell_type": "markdown",
   "id": "756f9ba1",
   "metadata": {},
   "source": [
    "## Verify Backend API Endpoints\n",
    "Send HTTP requests to the backend API endpoints to check their availability and correctness."
   ]
  },
  {
   "cell_type": "code",
   "execution_count": 18,
   "id": "5d69c8c2",
   "metadata": {},
   "outputs": [
    {
     "name": "stdout",
     "output_type": "stream",
     "text": [
      "Error connecting to the backend API: HTTPConnectionPool(host='localhost', port=8000): Max retries exceeded with url: /api/health (Caused by NewConnectionError('<urllib3.connection.HTTPConnection object at 0x0000020E97C4C9E0>: Failed to establish a new connection: [WinError 10061] No connection could be made because the target machine actively refused it'))\n"
     ]
    }
   ],
   "source": [
    "import requests\n",
    "\n",
    "# Replace with your backend API endpoint\n",
    "api_endpoint = \"http://localhost:8000/api/health\"\n",
    "\n",
    "try:\n",
    "    response = requests.get(api_endpoint)\n",
    "    if response.status_code == 200:\n",
    "        print(\"Backend API is reachable and returned:\", response.json())\n",
    "    else:\n",
    "        print(f\"Backend API returned an error: {response.status_code}\")\n",
    "except requests.exceptions.RequestException as e:\n",
    "    print(f\"Error connecting to the backend API: {e}\")"
   ]
  },
  {
   "cell_type": "markdown",
   "id": "bba3287b",
   "metadata": {},
   "source": [
    "## Test Connectivity Between Services\n",
    "Use tools like `curl` or `telnet` to test network connectivity between containers (e.g., backend and Grafana)."
   ]
  },
  {
   "cell_type": "code",
   "execution_count": 19,
   "id": "5c48c56e",
   "metadata": {},
   "outputs": [
    {
     "name": "stderr",
     "output_type": "stream",
     "text": [
      "  % Total    % Received % Xferd  Average Speed   Time    Time     Time  Current\n",
      "                                 Dload  Upload   Total   Spent    Left  Speed\n",
      "\n",
      "  0     0    0     0    0     0      0      0 --:--:-- --:--:-- --:--:--     0\n",
      "  0     0    0     0    0     0      0      0 --:--:--  0:00:01 --:--:--     0\n",
      "  0     0    0     0    0     0      0      0 --:--:--  0:00:02 --:--:--     0\n",
      "  0     0    0     0    0     0      0      0 --:--:--  0:00:02 --:--:--     0\n",
      "curl: (7) Failed to connect to localhost port 8000 after 2219 ms: Could not connect to server\n",
      "'telnet' is not recognized as an internal or external command,\n",
      "operable program or batch file.\n",
      "'telnet' is not recognized as an internal or external command,\n",
      "operable program or batch file.\n"
     ]
    }
   ],
   "source": [
    "# Test connectivity using curl (replace <service_url> with the actual service URL)\n",
    "!curl -I http://localhost:8000\n",
    "\n",
    "# Test connectivity using telnet (replace <host> and <port> with actual values)\n",
    "!telnet localhost 8000"
   ]
  },
  {
   "cell_type": "markdown",
   "id": "0f0b7397",
   "metadata": {},
   "source": [
    "## Fix File Permissions for Grafana\n",
    "Adjust file permissions for the Grafana configuration file to ensure it is readable by the container."
   ]
  },
  {
   "cell_type": "code",
   "execution_count": 20,
   "id": "c852d7fd",
   "metadata": {},
   "outputs": [
    {
     "name": "stdout",
     "output_type": "stream",
     "text": [
      "Cannot update permissions as the file does not exist: /etc/grafana/grafana.ini\n"
     ]
    }
   ],
   "source": [
    "import subprocess\n",
    "\n",
    "# Adjust file permissions (replace with appropriate permissions, e.g., 644)\n",
    "if os.path.exists(grafana_config_path):\n",
    "    try:\n",
    "        subprocess.run([\"chmod\", \"644\", grafana_config_path], check=True)\n",
    "        print(f\"Permissions updated for {grafana_config_path}\")\n",
    "    except Exception as e:\n",
    "        print(f\"Failed to update permissions: {e}\")\n",
    "else:\n",
    "    print(f\"Cannot update permissions as the file does not exist: {grafana_config_path}\")"
   ]
  },
  {
   "cell_type": "markdown",
   "id": "45e34a83",
   "metadata": {},
   "source": [
    "## Restart and Monitor Services\n",
    "Restart the affected containers and monitor their logs to confirm the issues are resolved."
   ]
  },
  {
   "cell_type": "code",
   "execution_count": null,
   "id": "2803e62c",
   "metadata": {},
   "outputs": [
    {
     "name": "stdout",
     "output_type": "stream",
     "text": [
      "zion-redis-1\n"
     ]
    }
   ],
   "source": [
    "# Restart a specific container (replace <container_id> with the actual ID)\n",
    "!docker restart zion-redis-1\n",
    "\n",
    "# Monitor logs for the restarted container\n",
    "!docker logs -f zion-redis-1"
   ]
  }
 ],
 "metadata": {
  "kernelspec": {
   "display_name": "venv",
   "language": "python",
   "name": "python3"
  },
  "language_info": {
   "codemirror_mode": {
    "name": "ipython",
    "version": 3
   },
   "file_extension": ".py",
   "mimetype": "text/x-python",
   "name": "python",
   "nbconvert_exporter": "python",
   "pygments_lexer": "ipython3",
   "version": "3.12.9"
  }
 },
 "nbformat": 4,
 "nbformat_minor": 5
}
